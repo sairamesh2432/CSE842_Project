{
 "cells": [
  {
   "cell_type": "code",
   "execution_count": 18,
   "id": "688ac809",
   "metadata": {},
   "outputs": [],
   "source": [
    "import pandas as pd"
   ]
  },
  {
   "cell_type": "code",
   "execution_count": 19,
   "id": "65a71445",
   "metadata": {},
   "outputs": [],
   "source": [
    "marvel_df = pd.read_csv(\"movie_list_marvel.csv\")\n",
    "dc_df = pd.read_csv(\"movie_list_dc.csv\")"
   ]
  },
  {
   "cell_type": "code",
   "execution_count": 25,
   "id": "514404c2",
   "metadata": {},
   "outputs": [],
   "source": [
    "for index, row in marvel_df.iterrows():\n",
    "    movie_name, trailer_corpus = row[0], row[-1]\n",
    "    with open(f\"./corpus_raw/Marvel/trailer_corpus/{movie_name}.txt\", \"w\", encoding=\"utf-8\") as file:\n",
    "        file.write(trailer_corpus)\n",
    "        \n",
    "for index, row in dc_df.iterrows():\n",
    "    movie_name, trailer_corpus = row[0], row[-1]\n",
    "    with open(f\"./corpus_raw/DC/trailer_corpus/{movie_name}.txt\", \"w\",encoding=\"utf-8\") as file:\n",
    "        file.write(trailer_corpus)"
   ]
  },
  {
   "cell_type": "code",
   "execution_count": null,
   "id": "c34ed88f",
   "metadata": {},
   "outputs": [],
   "source": []
  }
 ],
 "metadata": {
  "kernelspec": {
   "display_name": "Python 3",
   "language": "python",
   "name": "python3"
  },
  "language_info": {
   "codemirror_mode": {
    "name": "ipython",
    "version": 3
   },
   "file_extension": ".py",
   "mimetype": "text/x-python",
   "name": "python",
   "nbconvert_exporter": "python",
   "pygments_lexer": "ipython3",
   "version": "3.8.11"
  }
 },
 "nbformat": 4,
 "nbformat_minor": 5
}
